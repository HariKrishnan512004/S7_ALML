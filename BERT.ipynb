{
  "nbformat": 4,
  "nbformat_minor": 0,
  "metadata": {
    "colab": {
      "provenance": [],
      "gpuType": "T4"
    },
    "kernelspec": {
      "name": "python3",
      "display_name": "Python 3"
    },
    "language_info": {
      "name": "python"
    },
    "accelerator": "GPU"
  },
  "cells": [
    {
      "cell_type": "code",
      "execution_count": 1,
      "metadata": {
        "id": "cUTlXR5w-amP"
      },
      "outputs": [],
      "source": [
        "from transformers import pipeline"
      ]
    },
    {
      "cell_type": "code",
      "source": [
        "def analyze_sentiment(sentence):\n",
        "  sentiment_pipeline = pipeline(\"sentiment-analysis\", model ='distilbert-base-uncased-finetuned-sst-2-english')\n",
        "  result = sentiment_pipeline(sentence)[0]\n",
        "  print(f\"Sentence: {sentence}\\nSentiment: {result['label']}\\nScore: {result['score']:.2f}\")"
      ],
      "metadata": {
        "id": "pIy6Lcukhha_"
      },
      "execution_count": 11,
      "outputs": []
    },
    {
      "cell_type": "code",
      "source": [
        "sentences = [\n",
        "    \"I love this movie, it was amazing!\",\n",
        "    \"This product is terrible and disappointing.\",\n",
        "    \"I feel great today!\",\n",
        "    \"The experience was horrible and frustrating.\",\n",
        "    \"Absolutely fantastic service!\",\n",
        "    \"I hate this so much.\",\n",
        "    \"The food was okay, but the service was terrible\"\n",
        "]\n",
        "for i in sentences:\n",
        "  analyze_sentiment(i)"
      ],
      "metadata": {
        "id": "DzIdsGFp_Nay",
        "colab": {
          "base_uri": "https://localhost:8080/"
        },
        "outputId": "a02736dc-293f-42ba-e04b-34511fb95060"
      },
      "execution_count": 12,
      "outputs": [
        {
          "output_type": "stream",
          "name": "stderr",
          "text": [
            "Device set to use cuda:0\n"
          ]
        },
        {
          "output_type": "stream",
          "name": "stdout",
          "text": [
            "Sentence: I love this movie, it was amazing!\n",
            "Sentiment: POSITIVE\n",
            "Score: 1.00\n"
          ]
        },
        {
          "output_type": "stream",
          "name": "stderr",
          "text": [
            "Device set to use cuda:0\n"
          ]
        },
        {
          "output_type": "stream",
          "name": "stdout",
          "text": [
            "Sentence: This product is terrible and disappointing.\n",
            "Sentiment: NEGATIVE\n",
            "Score: 1.00\n"
          ]
        },
        {
          "output_type": "stream",
          "name": "stderr",
          "text": [
            "Device set to use cuda:0\n"
          ]
        },
        {
          "output_type": "stream",
          "name": "stdout",
          "text": [
            "Sentence: I feel great today!\n",
            "Sentiment: POSITIVE\n",
            "Score: 1.00\n"
          ]
        },
        {
          "output_type": "stream",
          "name": "stderr",
          "text": [
            "Device set to use cuda:0\n"
          ]
        },
        {
          "output_type": "stream",
          "name": "stdout",
          "text": [
            "Sentence: The experience was horrible and frustrating.\n",
            "Sentiment: NEGATIVE\n",
            "Score: 1.00\n"
          ]
        },
        {
          "output_type": "stream",
          "name": "stderr",
          "text": [
            "Device set to use cuda:0\n"
          ]
        },
        {
          "output_type": "stream",
          "name": "stdout",
          "text": [
            "Sentence: Absolutely fantastic service!\n",
            "Sentiment: POSITIVE\n",
            "Score: 1.00\n"
          ]
        },
        {
          "output_type": "stream",
          "name": "stderr",
          "text": [
            "Device set to use cuda:0\n"
          ]
        },
        {
          "output_type": "stream",
          "name": "stdout",
          "text": [
            "Sentence: I hate this so much.\n",
            "Sentiment: NEGATIVE\n",
            "Score: 1.00\n"
          ]
        },
        {
          "output_type": "stream",
          "name": "stderr",
          "text": [
            "Device set to use cuda:0\n"
          ]
        },
        {
          "output_type": "stream",
          "name": "stdout",
          "text": [
            "Sentence: The food was okay, but the service was terrible\n",
            "Sentiment: NEGATIVE\n",
            "Score: 0.99\n"
          ]
        }
      ]
    }
  ]
}