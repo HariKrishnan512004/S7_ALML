{
 "cells": [
  {
   "cell_type": "code",
   "execution_count": 2,
   "id": "65501640-929f-4d9c-ba57-23f6b15a8b64",
   "metadata": {},
   "outputs": [],
   "source": [
    "import shutil"
   ]
  },
  {
   "cell_type": "code",
   "execution_count": 4,
   "id": "66d5627d-1554-4d85-9d48-70b585286d57",
   "metadata": {},
   "outputs": [],
   "source": [
    "from tensorflow.keras.preprocessing.image import ImageDataGenerator"
   ]
  },
  {
   "cell_type": "code",
   "execution_count": 6,
   "id": "62d3fe84-44a9-4595-95b8-3ed769c18b7e",
   "metadata": {},
   "outputs": [],
   "source": [
    "import tensorflow as tf\n",
    "import zipfile\n",
    "import os"
   ]
  },
  {
   "cell_type": "code",
   "execution_count": 8,
   "id": "6cae3c1d-0ebd-4955-8526-a1683d26d294",
   "metadata": {},
   "outputs": [],
   "source": [
    "from tensorflow.keras.layers import Dense,MaxPooling2D,Conv2D,Dropout,Flatten"
   ]
  },
  {
   "cell_type": "code",
   "execution_count": 10,
   "id": "39564865-c5d9-49ca-925c-66f715d7de15",
   "metadata": {},
   "outputs": [],
   "source": [
    "from sklearn.model_selection import train_test_split"
   ]
  },
  {
   "cell_type": "code",
   "execution_count": 12,
   "id": "136d67e9-7117-4f19-97ce-2c76d8e3e538",
   "metadata": {},
   "outputs": [],
   "source": [
    "from tensorflow.keras.models import Sequential"
   ]
  },
  {
   "cell_type": "code",
   "execution_count": 14,
   "id": "bb971f5c-985d-44f3-baeb-8df7df12f750",
   "metadata": {},
   "outputs": [],
   "source": [
    "import matplotlib.pyplot as plt"
   ]
  },
  {
   "cell_type": "code",
   "execution_count": 16,
   "id": "3d3d9999-e90f-4f7d-9e71-fb2c563f6809",
   "metadata": {},
   "outputs": [],
   "source": [
    "from tensorflow.keras.optimizers import Adam"
   ]
  },
  {
   "cell_type": "code",
   "execution_count": 18,
   "id": "da4a4bba-b5be-4eed-970b-2baa0e39b8f3",
   "metadata": {},
   "outputs": [],
   "source": [
    "from tensorflow.keras.applications import VGG19"
   ]
  },
  {
   "cell_type": "code",
   "execution_count": 20,
   "id": "d8a395a0-02a3-4bac-a534-9812c3d69a32",
   "metadata": {},
   "outputs": [],
   "source": [
    "file_path = \"C:/Users/userr/DL LAB EXAM/Animals.zip\"\n",
    "extracted_path = \"C:/Users/userr/DL LAB EXAM\""
   ]
  },
  {
   "cell_type": "code",
   "execution_count": 22,
   "id": "10d47ec2-8e4f-418f-9414-b6a6015cfc4f",
   "metadata": {},
   "outputs": [],
   "source": [
    "with zipfile.ZipFile(file_path,'r') as zip_ref:\n",
    "    zip_ref.extractall(extracted_path)"
   ]
  },
  {
   "cell_type": "code",
   "execution_count": 24,
   "id": "8aa2e2c6-96c0-4291-a1ea-a344f2840b3a",
   "metadata": {},
   "outputs": [],
   "source": [
    "raw_path =  \"C:/Users/userr/DL LAB EXAM/Animals/Animals/raw-img\""
   ]
  },
  {
   "cell_type": "code",
   "execution_count": 26,
   "id": "73da9449-1a18-4280-bf82-5398d839742d",
   "metadata": {},
   "outputs": [],
   "source": [
    "base_dir = 'dataset'\n",
    "train_dir = os.path.join(base_dir,'train')\n",
    "test_dir = os.path.join(base_dir,'test')"
   ]
  },
  {
   "cell_type": "code",
   "execution_count": 28,
   "id": "feccd8cc-701a-4029-a359-251f36101dc4",
   "metadata": {},
   "outputs": [],
   "source": [
    "os.makedirs(train_dir,exist_ok=True)\n",
    "os.makedirs(test_dir,exist_ok=True)"
   ]
  },
  {
   "cell_type": "code",
   "execution_count": 30,
   "id": "6b73b55a-cbd4-4255-91e9-8282e5ce8d57",
   "metadata": {},
   "outputs": [],
   "source": [
    "for animal_classes in os.listdir(raw_path):\n",
    "    class_path = os.path.join(raw_path,animal_classes)\n",
    "    if os.path.isdir(class_path):\n",
    "        images = os.listdir(class_path)\n",
    "        train_data,test_data = train_test_split(images,test_size=0.2,random_state=42)\n",
    "\n",
    "        os.makedirs(os.path.join(train_dir,animal_classes),exist_ok = True)\n",
    "        os.makedirs(os.path.join(test_dir,animal_classes),exist_ok = True)\n",
    "\n",
    "        for f in train_data:\n",
    "            shutil.move(os.path.join(class_path,f),os.path.join(train_dir,animal_classes,f))\n",
    "        for f in test_data:\n",
    "            shutil.move(os.path.join(class_path,f),os.path.join(test_dir,animal_classes,f))\n",
    "        "
   ]
  },
  {
   "cell_type": "code",
   "execution_count": 32,
   "id": "82e36fc1-a4fd-47c1-80f5-ebe40fa29a91",
   "metadata": {},
   "outputs": [],
   "source": [
    "image_size = (224,224)\n",
    "batch_size = 128\n",
    "\n",
    "train_datagen = ImageDataGenerator(rescale=1./255)\n",
    "test_datagen = ImageDataGenerator(rescale=1./255)\n"
   ]
  },
  {
   "cell_type": "code",
   "execution_count": 34,
   "id": "f896fd47-27d9-4caf-9c94-d8aee2cea850",
   "metadata": {},
   "outputs": [
    {
     "name": "stdout",
     "output_type": "stream",
     "text": [
      "Found 1296 images belonging to 4 classes.\n",
      "Found 326 images belonging to 4 classes.\n"
     ]
    }
   ],
   "source": [
    "train_data = train_datagen.flow_from_directory(\n",
    "    train_dir,\n",
    "    target_size = image_size,\n",
    "    batch_size = batch_size,\n",
    "    class_mode = 'categorical'\n",
    ")\n",
    "test_data = test_datagen.flow_from_directory(\n",
    "    test_dir,\n",
    "    target_size = image_size,\n",
    "    batch_size = batch_size,\n",
    "    class_mode = 'categorical'\n",
    ")"
   ]
  },
  {
   "cell_type": "code",
   "execution_count": 36,
   "id": "d00c52c0-a6d7-4c3d-a975-d402932e01ac",
   "metadata": {},
   "outputs": [
    {
     "name": "stderr",
     "output_type": "stream",
     "text": [
      "C:\\Users\\userr\\anaconda3\\Lib\\site-packages\\keras\\src\\layers\\convolutional\\base_conv.py:113: UserWarning: Do not pass an `input_shape`/`input_dim` argument to a layer. When using Sequential models, prefer using an `Input(shape)` object as the first layer in the model instead.\n",
      "  super().__init__(activity_regularizer=activity_regularizer, **kwargs)\n"
     ]
    }
   ],
   "source": [
    "#Custom CNN model\n",
    "model = Sequential([\n",
    "    Conv2D(32,(3,3),activation='relu',input_shape=(224,224,3)),\n",
    "    MaxPooling2D(2,2),\n",
    "    Conv2D(32,(3,3),activation='relu'),\n",
    "    MaxPooling2D(2,2),\n",
    "    Flatten(),\n",
    "    Dense(32,activation='relu'),\n",
    "    Dropout(0.5),\n",
    "    Dense(4,activation='softmax')\n",
    "])"
   ]
  },
  {
   "cell_type": "code",
   "execution_count": 38,
   "id": "306e5cc3-252d-4e74-a274-f4885f49578a",
   "metadata": {},
   "outputs": [],
   "source": [
    "model.compile(optimizer=Adam(learning_rate=0.0001),loss='categorical_crossentropy',metrics=['accuracy'])"
   ]
  },
  {
   "cell_type": "code",
   "execution_count": 40,
   "id": "7b57fd8f-2e53-4115-b4f7-ba872c6b7acc",
   "metadata": {},
   "outputs": [
    {
     "name": "stdout",
     "output_type": "stream",
     "text": [
      "Epoch 1/10\n",
      "\u001b[1m11/11\u001b[0m \u001b[32m━━━━━━━━━━━━━━━━━━━━\u001b[0m\u001b[37m\u001b[0m \u001b[1m18s\u001b[0m 2s/step - accuracy: 0.2847 - loss: 1.4043 - val_accuracy: 0.3589 - val_loss: 1.3764\n",
      "Epoch 2/10\n",
      "\u001b[1m11/11\u001b[0m \u001b[32m━━━━━━━━━━━━━━━━━━━━\u001b[0m\u001b[37m\u001b[0m \u001b[1m7s\u001b[0m 713ms/step - accuracy: 0.2577 - loss: 1.3811 - val_accuracy: 0.2515 - val_loss: 1.3761\n",
      "Epoch 3/10\n",
      "\u001b[1m11/11\u001b[0m \u001b[32m━━━━━━━━━━━━━━━━━━━━\u001b[0m\u001b[37m\u001b[0m \u001b[1m8s\u001b[0m 719ms/step - accuracy: 0.2469 - loss: 1.3734 - val_accuracy: 0.3405 - val_loss: 1.3656\n",
      "Epoch 4/10\n",
      "\u001b[1m11/11\u001b[0m \u001b[32m━━━━━━━━━━━━━━━━━━━━\u001b[0m\u001b[37m\u001b[0m \u001b[1m8s\u001b[0m 715ms/step - accuracy: 0.2963 - loss: 1.3705 - val_accuracy: 0.3558 - val_loss: 1.3582\n",
      "Epoch 5/10\n",
      "\u001b[1m11/11\u001b[0m \u001b[32m━━━━━━━━━━━━━━━━━━━━\u001b[0m\u001b[37m\u001b[0m \u001b[1m7s\u001b[0m 645ms/step - accuracy: 0.3040 - loss: 1.3518 - val_accuracy: 0.3804 - val_loss: 1.3253\n",
      "Epoch 6/10\n",
      "\u001b[1m11/11\u001b[0m \u001b[32m━━━━━━━━━━━━━━━━━━━━\u001b[0m\u001b[37m\u001b[0m \u001b[1m7s\u001b[0m 645ms/step - accuracy: 0.2994 - loss: 1.3418 - val_accuracy: 0.3926 - val_loss: 1.3326\n",
      "Epoch 7/10\n",
      "\u001b[1m11/11\u001b[0m \u001b[32m━━━━━━━━━━━━━━━━━━━━\u001b[0m\u001b[37m\u001b[0m \u001b[1m7s\u001b[0m 656ms/step - accuracy: 0.3148 - loss: 1.3303 - val_accuracy: 0.3466 - val_loss: 1.3081\n",
      "Epoch 8/10\n",
      "\u001b[1m11/11\u001b[0m \u001b[32m━━━━━━━━━━━━━━━━━━━━\u001b[0m\u001b[37m\u001b[0m \u001b[1m8s\u001b[0m 678ms/step - accuracy: 0.3002 - loss: 1.3283 - val_accuracy: 0.3528 - val_loss: 1.2976\n",
      "Epoch 9/10\n",
      "\u001b[1m11/11\u001b[0m \u001b[32m━━━━━━━━━━━━━━━━━━━━\u001b[0m\u001b[37m\u001b[0m \u001b[1m7s\u001b[0m 618ms/step - accuracy: 0.3233 - loss: 1.3161 - val_accuracy: 0.4387 - val_loss: 1.2868\n",
      "Epoch 10/10\n",
      "\u001b[1m11/11\u001b[0m \u001b[32m━━━━━━━━━━━━━━━━━━━━\u001b[0m\u001b[37m\u001b[0m \u001b[1m7s\u001b[0m 637ms/step - accuracy: 0.3434 - loss: 1.2849 - val_accuracy: 0.4540 - val_loss: 1.2604\n"
     ]
    }
   ],
   "source": [
    "custom_cnn = model.fit(train_data,validation_data=test_data,epochs=10)"
   ]
  },
  {
   "cell_type": "code",
   "execution_count": 44,
   "id": "2a807ca0-4819-42f9-8d22-6d00ea87628b",
   "metadata": {},
   "outputs": [],
   "source": [
    "#VGG-19 model\n",
    "vgg_base = VGG19(weights='imagenet',include_top=True,input_shape=(224,224,3))\n",
    "vgg_model = Sequential([\n",
    "    vgg_base,\n",
    "    Flatten(),\n",
    "    Dense(32, activation='relu'),\n",
    "    Dropout(0.5),\n",
    "    Dense(4, activation='softmax')\n",
    "])"
   ]
  },
  {
   "cell_type": "code",
   "execution_count": 46,
   "id": "c4f28625-c588-4326-a413-66768221471f",
   "metadata": {},
   "outputs": [],
   "source": [
    "vgg_model.compile(optimizer=Adam(0.0001),\n",
    "                  loss='categorical_crossentropy',\n",
    "                  metrics=['accuracy'])"
   ]
  },
  {
   "cell_type": "code",
   "execution_count": 48,
   "id": "db05316d-ad25-44da-b09b-16db199a9e06",
   "metadata": {},
   "outputs": [
    {
     "name": "stdout",
     "output_type": "stream",
     "text": [
      "Epoch 1/3\n",
      "\u001b[1m11/11\u001b[0m \u001b[32m━━━━━━━━━━━━━━━━━━━━\u001b[0m\u001b[37m\u001b[0m \u001b[1m593s\u001b[0m 55s/step - accuracy: 0.2454 - loss: 1.3866 - val_accuracy: 0.2546 - val_loss: 1.3863\n",
      "Epoch 2/3\n",
      "\u001b[1m11/11\u001b[0m \u001b[32m━━━━━━━━━━━━━━━━━━━━\u001b[0m\u001b[37m\u001b[0m \u001b[1m631s\u001b[0m 57s/step - accuracy: 0.2500 - loss: 1.3867 - val_accuracy: 0.2546 - val_loss: 1.3863\n",
      "Epoch 3/3\n",
      "\u001b[1m11/11\u001b[0m \u001b[32m━━━━━━━━━━━━━━━━━━━━\u001b[0m\u001b[37m\u001b[0m \u001b[1m643s\u001b[0m 59s/step - accuracy: 0.2508 - loss: 1.3857 - val_accuracy: 0.2546 - val_loss: 1.3863\n"
     ]
    }
   ],
   "source": [
    "vgg = vgg_model.fit(train_data, validation_data=test_data, epochs=3)"
   ]
  },
  {
   "cell_type": "code",
   "execution_count": 52,
   "id": "41b86ab2-7c0e-4c6d-a5db-1bf35579c673",
   "metadata": {},
   "outputs": [
    {
     "data": {
      "image/png": "[encoded data removed]",
      "text/plain": [
       "<Figure size 1200x500 with 1 Axes>"
      ]
     },
     "metadata": {},
     "output_type": "display_data"
    }
   ],
   "source": [
    "def plot_metrics(cnn,vgg_model, label1=\"Custom CNN\", label2=\"VGG19\"):\n",
    "    plt.figure(figsize=(12,5))\n",
    "    \n",
    "    # Accuracy comparison\n",
    "    plt.subplot(1,2,1)\n",
    "    plt.plot(cnn.history['accuracy'], label=f'{label1} Train')\n",
    "    plt.plot(cnn.history['val_accuracy'], label=f'{label1} Val')\n",
    "    plt.plot(vgg_model.history['accuracy'], label=f'{label2} Train')\n",
    "    plt.plot(vgg_model.history['val_accuracy'], label=f'{label2} Val')\n",
    "    plt.title(\"Accuracy Comparison\")\n",
    "    plt.legend()\n",
    "plot_metrics(custom_cnn,vgg)"
   ]
  },
  {
   "cell_type": "code",
   "execution_count": null,
   "id": "af8060bc-ffa2-4842-a1df-3064fb824a26",
   "metadata": {},
   "outputs": [],
   "source": []
  }
 ],
 "metadata": {
  "kernelspec": {
   "display_name": "Python 3 (ipykernel)",
   "language": "python",
   "name": "python3"
  },
  "language_info": {
   "codemirror_mode": {
    "name": "ipython",
    "version": 3
   },
   "file_extension": ".py",
   "mimetype": "text/x-python",
   "name": "python",
   "nbconvert_exporter": "python",
   "pygments_lexer": "ipython3",
   "version": "3.11.7"
  }
 },
 "nbformat": 4,
 "nbformat_minor": 5
}
